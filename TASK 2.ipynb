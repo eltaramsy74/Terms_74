{
 "cells": [
  {
   "cell_type": "code",
   "execution_count": null,
   "id": "e21b676a-8fd9-41e8-afc3-003aed70e41c",
   "metadata": {},
   "outputs": [
    {
     "name": "stdout",
     "output_type": "stream",
     "text": [
      "Welcome to the TERMS_STORE\n",
      "Please choose an option:\n",
      "1. Add a liquid\n",
      "2. Delete a liquid\n",
      "3. Edit a liquid's price\n",
      "4. Show all liquids\n",
      "5. Exit\n"
     ]
    },
    {
     "name": "stdout",
     "output_type": "stream",
     "text": [
      "Enter your choose:  1\n",
      "Enter line name:  TTKKK\n",
      "Enter liquid price:  123\n"
     ]
    },
    {
     "name": "stdout",
     "output_type": "stream",
     "text": [
      "Liquid added success\n",
      "Please choose an option:\n",
      "1. Add a liquid\n",
      "2. Delete a liquid\n",
      "3. Edit a liquid's price\n",
      "4. Show all liquids\n",
      "5. Exit\n"
     ]
    },
    {
     "name": "stdout",
     "output_type": "stream",
     "text": [
      "Enter your choose:  4\n"
     ]
    },
    {
     "name": "stdout",
     "output_type": "stream",
     "text": [
      " All liquids in the Vape Store:\n",
      "LINE : tokyo : 500 L.E\n",
      "LINE : vape station : 250 L.E\n",
      "LINE : vgod : 600 L.E\n",
      "LINE : ttkkk : 123.0 L.E\n",
      "Please choose an option:\n",
      "1. Add a liquid\n",
      "2. Delete a liquid\n",
      "3. Edit a liquid's price\n",
      "4. Show all liquids\n",
      "5. Exit\n"
     ]
    },
    {
     "name": "stdout",
     "output_type": "stream",
     "text": [
      "Enter your choose:  9\n"
     ]
    },
    {
     "name": "stdout",
     "output_type": "stream",
     "text": [
      "Invalid choose,Please enter 1, 2, 3, 4 , 5\n",
      "Please choose an option:\n",
      "1. Add a liquid\n",
      "2. Delete a liquid\n",
      "3. Edit a liquid's price\n",
      "4. Show all liquids\n",
      "5. Exit\n"
     ]
    },
    {
     "name": "stdout",
     "output_type": "stream",
     "text": [
      "Enter your choose:  ~\n"
     ]
    },
    {
     "name": "stdout",
     "output_type": "stream",
     "text": [
      "Invalid choose,Please enter 1, 2, 3, 4 , 5\n",
      "Please choose an option:\n",
      "1. Add a liquid\n",
      "2. Delete a liquid\n",
      "3. Edit a liquid's price\n",
      "4. Show all liquids\n",
      "5. Exit\n"
     ]
    },
    {
     "name": "stdout",
     "output_type": "stream",
     "text": [
      "Enter your choose:  5\n"
     ]
    },
    {
     "name": "stdout",
     "output_type": "stream",
     "text": [
      "Thank you for using the TERMS_STORE\n"
     ]
    }
   ],
   "source": [
    "TERMS_STORE = { \"line\": [\"tokyo\", \"vape station\", \"vgod\"], \"price\": [500, 250, 600] }\n",
    "\n",
    "print(\"Welcome to the TERMS_STORE\")\n",
    "\n",
    "#Loop until user types 5\n",
    "while True:\n",
    "    print(\"Please choose an option:\")\n",
    "    print(\"1. Add a liquid\")\n",
    "    print(\"2. Delete a liquid\")\n",
    "    print(\"3. Edit a liquid's price\")\n",
    "    print(\"4. Show all liquids\")\n",
    "    print(\"5. Exit\")\n",
    "\n",
    "    choose = input(\"Enter your choose: \").strip()\n",
    "\n",
    "    if choose == \"5\":\n",
    "        print(\"Thank you for using the TERMS_STORE\")\n",
    "        break\n",
    "    elif choose == \"1\":\n",
    "        line = input(\"Enter line name: \").lower()\n",
    "        price = float(input(\"Enter liquid price: \"))\n",
    "        TERMS_STORE[\"line\"].append(line)\n",
    "        TERMS_STORE[\"price\"].append(price)\n",
    "        print(\"Liquid added success\")\n",
    "    elif choose == \"2\":\n",
    "        line = input(\"Enter liquid name to delete: \").strip().lower()\n",
    "        to_remove = None # WE USE NONE TO CHEK ELIMINT IN DIC OR NOT AND WE CAN USE -1 BUT WRITE FOUND\n",
    "        for i in range(len(TERMS_STORE[\"line\"])):\n",
    "            if TERMS_STORE[\"line\"][i].lower() == line:\n",
    "                to_remove = i\n",
    "                break\n",
    "        if to_remove is not None:\n",
    "            del TERMS_STORE[\"line\"][to_remove]\n",
    "            del TERMS_STORE[\"price\"][to_remove]\n",
    "            print(\"Liquid deleted success\")\n",
    "        else:\n",
    "            print(\"Liquid not found in TERMS_STORE\")\n",
    "    elif choose == \"3\":\n",
    "        line = input(\"Enter liquid name to edit price: \").strip().lower()\n",
    "        to_edit = None\n",
    "        for i in range(len(TERMS_STORE[\"line\"])):\n",
    "            if TERMS_STORE[\"line\"][i].lower() == line:\n",
    "                to_edit = i\n",
    "                break\n",
    "        if to_edit is not None:\n",
    "            new_price = float(input(\"Enter new price: \"))\n",
    "            TERMS_STORE[\"price\"][to_edit] = new_price\n",
    "            print(\"Price updated success\")\n",
    "        else:\n",
    "            print(\"Liquid not found in the store\")\n",
    "    elif choose == \"4\":\n",
    "        if TERMS_STORE[\"line\"]:\n",
    "            print(\" All liquids in the Vape Store:\")\n",
    "            for i in range(len(TERMS_STORE[\"line\"])):\n",
    "                print(f\"LINE : {TERMS_STORE['line'][i]} : {TERMS_STORE['price'][i]} L.E\")\n",
    "        else:\n",
    "            print(\" The store is empty\")\n",
    "    else:\n",
    "        print(\"Invalid choose,Please enter 1, 2, 3, 4 , 5\") #IF USER CHOOSE OUT OF MY LISY\n"
   ]
  },
  {
   "cell_type": "code",
   "execution_count": null,
   "id": "4b196673-9131-476c-86c7-ddea39d2db57",
   "metadata": {},
   "outputs": [],
   "source": []
  }
 ],
 "metadata": {
  "kernelspec": {
   "display_name": "Python [conda env:base] *",
   "language": "python",
   "name": "conda-base-py"
  },
  "language_info": {
   "codemirror_mode": {
    "name": "ipython",
    "version": 3
   },
   "file_extension": ".py",
   "mimetype": "text/x-python",
   "name": "python",
   "nbconvert_exporter": "python",
   "pygments_lexer": "ipython3",
   "version": "3.13.5"
  }
 },
 "nbformat": 4,
 "nbformat_minor": 5
}
